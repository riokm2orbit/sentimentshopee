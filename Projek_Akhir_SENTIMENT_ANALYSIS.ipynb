{
  "cells": [
    {
      "cell_type": "markdown",
      "source": [
        "### PROJEK SENTIMENT ANALYSIS APLIKASI SHOPEE \n",
        "\n",
        "Nama anggota kelompok:\n",
        "1. Andi Agustinus\n",
        "2. Bayu Eka Salam\n",
        "3. Rio Sanjaya\n",
        "4. Zuhri"
      ],
      "metadata": {
        "id": "ToOnXu8hcosy"
      }
    },
    {
      "cell_type": "markdown",
      "source": [
        "### 1. Proses Crawling data\n"
      ],
      "metadata": {
        "id": "gZgy5Ae4OO7s"
      }
    },
    {
      "cell_type": "code",
      "metadata": {
        "id": "2DnwN8kziiHQ"
      },
      "source": [
        "#Modul google-play-scraper digunakan untuk mengambil data aplikasi dari Google Play store\n",
        "\n",
        "!pip install google-play-scraper"
      ],
      "execution_count": null,
      "outputs": []
    },
    {
      "cell_type": "code",
      "metadata": {
        "id": "e9klApCuGeKQ"
      },
      "source": [
        "#Melakukan import library\n",
        "\n",
        "from google_play_scraper import app\n",
        "import pandas as pd\n",
        "import numpy as np\n",
        "import seaborn as sns"
      ],
      "execution_count": null,
      "outputs": []
    },
    {
      "cell_type": "code",
      "metadata": {
        "id": "IyazUxVxKCEB"
      },
      "source": [
        "#Kikis jumlah ulasan yang diinginkan\n",
        "\n",
        "from google_play_scraper import Sort, reviews\n",
        "\n",
        "result, continuation_token = reviews(\n",
        "    'com.shopee.id',\n",
        "    lang='id', #Jenis bahasa yang ingin digunakan\n",
        "    country='id', #Pemilihan Negara\n",
        "    sort=Sort.MOST_RELEVANT, #default ke Sortir. PALING RELEVAN Anda dapat menggunakan Sort. TERBARU untuk mendapatkan ulasan terbaru\n",
        "    count=1000, #jumlah data yg di ambil 1000\n",
        "    filter_score_with=None #default ke Tidak Ada (berarti semua skor) Gunakan 1 atau 2 atau 3 atau 4 atau 5 untuk memilih skor tertentu\n",
        ")"
      ],
      "execution_count": null,
      "outputs": []
    },
    {
      "cell_type": "code",
      "metadata": {
        "id": "8ebsnHrfHWig",
        "colab": {
          "base_uri": "https://localhost:8080/",
          "height": 337
        },
        "outputId": "603ef106-0fc9-4d8d-be9c-b0eff86a63cb"
      },
      "source": [
        "df_data = pd.DataFrame(np.array(result),columns=['review'])\n",
        "\n",
        "df_data = df_data.join(pd.DataFrame(df_data.pop('review').tolist()))\n",
        "\n",
        "df_data.head()"
      ],
      "execution_count": null,
      "outputs": [
        {
          "output_type": "execute_result",
          "data": {
            "text/plain": [
              "                               reviewId       userName  \\\n",
              "0  de7adcca-8b7d-497d-bf7d-2af69460e855          Rusdi   \n",
              "1  c907a88a-bd53-479a-9603-cf541cd4605a  Manan Permana   \n",
              "2  575e9715-1452-4b30-8262-9d6d0ff8509a  Najla Atsilah   \n",
              "3  997e75d5-faaf-48e2-a441-547b2467775a      xTROUBLEx   \n",
              "4  3a701ad7-cb4b-48f7-b1aa-4100d0f75dfe   Rashya Bryan   \n",
              "\n",
              "                                           userImage  \\\n",
              "0  https://play-lh.googleusercontent.com/a/AATXAJ...   \n",
              "1  https://play-lh.googleusercontent.com/a-/AOh14...   \n",
              "2  https://play-lh.googleusercontent.com/a/AATXAJ...   \n",
              "3  https://play-lh.googleusercontent.com/a-/AOh14...   \n",
              "4  https://play-lh.googleusercontent.com/a-/AOh14...   \n",
              "\n",
              "                                             content  score  thumbsUpCount  \\\n",
              "0  baru buka langsung crash dan keluar aplikasi s...      1            865   \n",
              "1  Setelah diupdate ke versi terbaru malah ga bis...      1           3954   \n",
              "2  Performa aplikasi setiap update tidak ada peru...      2           5736   \n",
              "3  Saya mengapresiasi aplikasi ini. Karena memuda...      1           2424   \n",
              "4  Sudah sering belanja di Shopee, kebutuhan apap...      4           4211   \n",
              "\n",
              "  reviewCreatedVersion                  at  \\\n",
              "0              2.88.23 2022-06-12 15:14:09   \n",
              "1              2.88.23 2022-06-09 08:00:17   \n",
              "2              2.87.40 2022-06-07 11:33:50   \n",
              "3              2.87.40 2022-06-05 09:00:05   \n",
              "4              2.87.40 2022-05-30 05:28:17   \n",
              "\n",
              "                                        replyContent           repliedAt  \n",
              "0                                               None                 NaT  \n",
              "1                                               None                 NaT  \n",
              "2                                               None                 NaT  \n",
              "3                                               None                 NaT  \n",
              "4  Hi Kak, mohon maaf atas ketidaknyamanannya ya.... 2022-05-30 07:25:29  "
            ],
            "text/html": [
              "\n",
              "  <div id=\"df-2a44c4a5-8ee3-436b-b52a-48c8c00874b5\">\n",
              "    <div class=\"colab-df-container\">\n",
              "      <div>\n",
              "<style scoped>\n",
              "    .dataframe tbody tr th:only-of-type {\n",
              "        vertical-align: middle;\n",
              "    }\n",
              "\n",
              "    .dataframe tbody tr th {\n",
              "        vertical-align: top;\n",
              "    }\n",
              "\n",
              "    .dataframe thead th {\n",
              "        text-align: right;\n",
              "    }\n",
              "</style>\n",
              "<table border=\"1\" class=\"dataframe\">\n",
              "  <thead>\n",
              "    <tr style=\"text-align: right;\">\n",
              "      <th></th>\n",
              "      <th>reviewId</th>\n",
              "      <th>userName</th>\n",
              "      <th>userImage</th>\n",
              "      <th>content</th>\n",
              "      <th>score</th>\n",
              "      <th>thumbsUpCount</th>\n",
              "      <th>reviewCreatedVersion</th>\n",
              "      <th>at</th>\n",
              "      <th>replyContent</th>\n",
              "      <th>repliedAt</th>\n",
              "    </tr>\n",
              "  </thead>\n",
              "  <tbody>\n",
              "    <tr>\n",
              "      <th>0</th>\n",
              "      <td>de7adcca-8b7d-497d-bf7d-2af69460e855</td>\n",
              "      <td>Rusdi</td>\n",
              "      <td>https://play-lh.googleusercontent.com/a/AATXAJ...</td>\n",
              "      <td>baru buka langsung crash dan keluar aplikasi s...</td>\n",
              "      <td>1</td>\n",
              "      <td>865</td>\n",
              "      <td>2.88.23</td>\n",
              "      <td>2022-06-12 15:14:09</td>\n",
              "      <td>None</td>\n",
              "      <td>NaT</td>\n",
              "    </tr>\n",
              "    <tr>\n",
              "      <th>1</th>\n",
              "      <td>c907a88a-bd53-479a-9603-cf541cd4605a</td>\n",
              "      <td>Manan Permana</td>\n",
              "      <td>https://play-lh.googleusercontent.com/a-/AOh14...</td>\n",
              "      <td>Setelah diupdate ke versi terbaru malah ga bis...</td>\n",
              "      <td>1</td>\n",
              "      <td>3954</td>\n",
              "      <td>2.88.23</td>\n",
              "      <td>2022-06-09 08:00:17</td>\n",
              "      <td>None</td>\n",
              "      <td>NaT</td>\n",
              "    </tr>\n",
              "    <tr>\n",
              "      <th>2</th>\n",
              "      <td>575e9715-1452-4b30-8262-9d6d0ff8509a</td>\n",
              "      <td>Najla Atsilah</td>\n",
              "      <td>https://play-lh.googleusercontent.com/a/AATXAJ...</td>\n",
              "      <td>Performa aplikasi setiap update tidak ada peru...</td>\n",
              "      <td>2</td>\n",
              "      <td>5736</td>\n",
              "      <td>2.87.40</td>\n",
              "      <td>2022-06-07 11:33:50</td>\n",
              "      <td>None</td>\n",
              "      <td>NaT</td>\n",
              "    </tr>\n",
              "    <tr>\n",
              "      <th>3</th>\n",
              "      <td>997e75d5-faaf-48e2-a441-547b2467775a</td>\n",
              "      <td>xTROUBLEx</td>\n",
              "      <td>https://play-lh.googleusercontent.com/a-/AOh14...</td>\n",
              "      <td>Saya mengapresiasi aplikasi ini. Karena memuda...</td>\n",
              "      <td>1</td>\n",
              "      <td>2424</td>\n",
              "      <td>2.87.40</td>\n",
              "      <td>2022-06-05 09:00:05</td>\n",
              "      <td>None</td>\n",
              "      <td>NaT</td>\n",
              "    </tr>\n",
              "    <tr>\n",
              "      <th>4</th>\n",
              "      <td>3a701ad7-cb4b-48f7-b1aa-4100d0f75dfe</td>\n",
              "      <td>Rashya Bryan</td>\n",
              "      <td>https://play-lh.googleusercontent.com/a-/AOh14...</td>\n",
              "      <td>Sudah sering belanja di Shopee, kebutuhan apap...</td>\n",
              "      <td>4</td>\n",
              "      <td>4211</td>\n",
              "      <td>2.87.40</td>\n",
              "      <td>2022-05-30 05:28:17</td>\n",
              "      <td>Hi Kak, mohon maaf atas ketidaknyamanannya ya....</td>\n",
              "      <td>2022-05-30 07:25:29</td>\n",
              "    </tr>\n",
              "  </tbody>\n",
              "</table>\n",
              "</div>\n",
              "      <button class=\"colab-df-convert\" onclick=\"convertToInteractive('df-2a44c4a5-8ee3-436b-b52a-48c8c00874b5')\"\n",
              "              title=\"Convert this dataframe to an interactive table.\"\n",
              "              style=\"display:none;\">\n",
              "        \n",
              "  <svg xmlns=\"http://www.w3.org/2000/svg\" height=\"24px\"viewBox=\"0 0 24 24\"\n",
              "       width=\"24px\">\n",
              "    <path d=\"M0 0h24v24H0V0z\" fill=\"none\"/>\n",
              "    <path d=\"M18.56 5.44l.94 2.06.94-2.06 2.06-.94-2.06-.94-.94-2.06-.94 2.06-2.06.94zm-11 1L8.5 8.5l.94-2.06 2.06-.94-2.06-.94L8.5 2.5l-.94 2.06-2.06.94zm10 10l.94 2.06.94-2.06 2.06-.94-2.06-.94-.94-2.06-.94 2.06-2.06.94z\"/><path d=\"M17.41 7.96l-1.37-1.37c-.4-.4-.92-.59-1.43-.59-.52 0-1.04.2-1.43.59L10.3 9.45l-7.72 7.72c-.78.78-.78 2.05 0 2.83L4 21.41c.39.39.9.59 1.41.59.51 0 1.02-.2 1.41-.59l7.78-7.78 2.81-2.81c.8-.78.8-2.07 0-2.86zM5.41 20L4 18.59l7.72-7.72 1.47 1.35L5.41 20z\"/>\n",
              "  </svg>\n",
              "      </button>\n",
              "      \n",
              "  <style>\n",
              "    .colab-df-container {\n",
              "      display:flex;\n",
              "      flex-wrap:wrap;\n",
              "      gap: 12px;\n",
              "    }\n",
              "\n",
              "    .colab-df-convert {\n",
              "      background-color: #E8F0FE;\n",
              "      border: none;\n",
              "      border-radius: 50%;\n",
              "      cursor: pointer;\n",
              "      display: none;\n",
              "      fill: #1967D2;\n",
              "      height: 32px;\n",
              "      padding: 0 0 0 0;\n",
              "      width: 32px;\n",
              "    }\n",
              "\n",
              "    .colab-df-convert:hover {\n",
              "      background-color: #E2EBFA;\n",
              "      box-shadow: 0px 1px 2px rgba(60, 64, 67, 0.3), 0px 1px 3px 1px rgba(60, 64, 67, 0.15);\n",
              "      fill: #174EA6;\n",
              "    }\n",
              "\n",
              "    [theme=dark] .colab-df-convert {\n",
              "      background-color: #3B4455;\n",
              "      fill: #D2E3FC;\n",
              "    }\n",
              "\n",
              "    [theme=dark] .colab-df-convert:hover {\n",
              "      background-color: #434B5C;\n",
              "      box-shadow: 0px 1px 3px 1px rgba(0, 0, 0, 0.15);\n",
              "      filter: drop-shadow(0px 1px 2px rgba(0, 0, 0, 0.3));\n",
              "      fill: #FFFFFF;\n",
              "    }\n",
              "  </style>\n",
              "\n",
              "      <script>\n",
              "        const buttonEl =\n",
              "          document.querySelector('#df-2a44c4a5-8ee3-436b-b52a-48c8c00874b5 button.colab-df-convert');\n",
              "        buttonEl.style.display =\n",
              "          google.colab.kernel.accessAllowed ? 'block' : 'none';\n",
              "\n",
              "        async function convertToInteractive(key) {\n",
              "          const element = document.querySelector('#df-2a44c4a5-8ee3-436b-b52a-48c8c00874b5');\n",
              "          const dataTable =\n",
              "            await google.colab.kernel.invokeFunction('convertToInteractive',\n",
              "                                                     [key], {});\n",
              "          if (!dataTable) return;\n",
              "\n",
              "          const docLinkHtml = 'Like what you see? Visit the ' +\n",
              "            '<a target=\"_blank\" href=https://colab.research.google.com/notebooks/data_table.ipynb>data table notebook</a>'\n",
              "            + ' to learn more about interactive tables.';\n",
              "          element.innerHTML = '';\n",
              "          dataTable['output_type'] = 'display_data';\n",
              "          await google.colab.output.renderOutput(dataTable, element);\n",
              "          const docLink = document.createElement('div');\n",
              "          docLink.innerHTML = docLinkHtml;\n",
              "          element.appendChild(docLink);\n",
              "        }\n",
              "      </script>\n",
              "    </div>\n",
              "  </div>\n",
              "  "
            ]
          },
          "metadata": {},
          "execution_count": 4
        }
      ]
    },
    {
      "cell_type": "code",
      "metadata": {
        "id": "md7wsC6fIUUH",
        "colab": {
          "base_uri": "https://localhost:8080/"
        },
        "outputId": "73dbe7c2-58e3-45e5-9aa3-4c072c9cd392"
      },
      "source": [
        "#Hitung jumlah data yang kita dapatkan\n",
        "\n",
        "len(df_data.index)"
      ],
      "execution_count": null,
      "outputs": [
        {
          "output_type": "execute_result",
          "data": {
            "text/plain": [
              "1000"
            ]
          },
          "metadata": {},
          "execution_count": 5
        }
      ]
    },
    {
      "cell_type": "code",
      "metadata": {
        "id": "JbtEy0IPHeIO",
        "colab": {
          "base_uri": "https://localhost:8080/",
          "height": 206
        },
        "outputId": "5b864d82-9e33-49a4-addc-367d3e1133af"
      },
      "source": [
        "#Pratinjau nama pengguna, peringkat, tanggal-waktu, dan ulasan saja\n",
        "\n",
        "df_data[['at','score', 'content']].head()  "
      ],
      "execution_count": null,
      "outputs": [
        {
          "output_type": "execute_result",
          "data": {
            "text/plain": [
              "                   at  score  \\\n",
              "0 2022-06-12 15:14:09      1   \n",
              "1 2022-06-09 08:00:17      1   \n",
              "2 2022-06-07 11:33:50      2   \n",
              "3 2022-06-05 09:00:05      1   \n",
              "4 2022-05-30 05:28:17      4   \n",
              "\n",
              "                                             content  \n",
              "0  baru buka langsung crash dan keluar aplikasi s...  \n",
              "1  Setelah diupdate ke versi terbaru malah ga bis...  \n",
              "2  Performa aplikasi setiap update tidak ada peru...  \n",
              "3  Saya mengapresiasi aplikasi ini. Karena memuda...  \n",
              "4  Sudah sering belanja di Shopee, kebutuhan apap...  "
            ],
            "text/html": [
              "\n",
              "  <div id=\"df-88ff4448-35c5-416b-a7ed-6af1f50f14a3\">\n",
              "    <div class=\"colab-df-container\">\n",
              "      <div>\n",
              "<style scoped>\n",
              "    .dataframe tbody tr th:only-of-type {\n",
              "        vertical-align: middle;\n",
              "    }\n",
              "\n",
              "    .dataframe tbody tr th {\n",
              "        vertical-align: top;\n",
              "    }\n",
              "\n",
              "    .dataframe thead th {\n",
              "        text-align: right;\n",
              "    }\n",
              "</style>\n",
              "<table border=\"1\" class=\"dataframe\">\n",
              "  <thead>\n",
              "    <tr style=\"text-align: right;\">\n",
              "      <th></th>\n",
              "      <th>at</th>\n",
              "      <th>score</th>\n",
              "      <th>content</th>\n",
              "    </tr>\n",
              "  </thead>\n",
              "  <tbody>\n",
              "    <tr>\n",
              "      <th>0</th>\n",
              "      <td>2022-06-12 15:14:09</td>\n",
              "      <td>1</td>\n",
              "      <td>baru buka langsung crash dan keluar aplikasi s...</td>\n",
              "    </tr>\n",
              "    <tr>\n",
              "      <th>1</th>\n",
              "      <td>2022-06-09 08:00:17</td>\n",
              "      <td>1</td>\n",
              "      <td>Setelah diupdate ke versi terbaru malah ga bis...</td>\n",
              "    </tr>\n",
              "    <tr>\n",
              "      <th>2</th>\n",
              "      <td>2022-06-07 11:33:50</td>\n",
              "      <td>2</td>\n",
              "      <td>Performa aplikasi setiap update tidak ada peru...</td>\n",
              "    </tr>\n",
              "    <tr>\n",
              "      <th>3</th>\n",
              "      <td>2022-06-05 09:00:05</td>\n",
              "      <td>1</td>\n",
              "      <td>Saya mengapresiasi aplikasi ini. Karena memuda...</td>\n",
              "    </tr>\n",
              "    <tr>\n",
              "      <th>4</th>\n",
              "      <td>2022-05-30 05:28:17</td>\n",
              "      <td>4</td>\n",
              "      <td>Sudah sering belanja di Shopee, kebutuhan apap...</td>\n",
              "    </tr>\n",
              "  </tbody>\n",
              "</table>\n",
              "</div>\n",
              "      <button class=\"colab-df-convert\" onclick=\"convertToInteractive('df-88ff4448-35c5-416b-a7ed-6af1f50f14a3')\"\n",
              "              title=\"Convert this dataframe to an interactive table.\"\n",
              "              style=\"display:none;\">\n",
              "        \n",
              "  <svg xmlns=\"http://www.w3.org/2000/svg\" height=\"24px\"viewBox=\"0 0 24 24\"\n",
              "       width=\"24px\">\n",
              "    <path d=\"M0 0h24v24H0V0z\" fill=\"none\"/>\n",
              "    <path d=\"M18.56 5.44l.94 2.06.94-2.06 2.06-.94-2.06-.94-.94-2.06-.94 2.06-2.06.94zm-11 1L8.5 8.5l.94-2.06 2.06-.94-2.06-.94L8.5 2.5l-.94 2.06-2.06.94zm10 10l.94 2.06.94-2.06 2.06-.94-2.06-.94-.94-2.06-.94 2.06-2.06.94z\"/><path d=\"M17.41 7.96l-1.37-1.37c-.4-.4-.92-.59-1.43-.59-.52 0-1.04.2-1.43.59L10.3 9.45l-7.72 7.72c-.78.78-.78 2.05 0 2.83L4 21.41c.39.39.9.59 1.41.59.51 0 1.02-.2 1.41-.59l7.78-7.78 2.81-2.81c.8-.78.8-2.07 0-2.86zM5.41 20L4 18.59l7.72-7.72 1.47 1.35L5.41 20z\"/>\n",
              "  </svg>\n",
              "      </button>\n",
              "      \n",
              "  <style>\n",
              "    .colab-df-container {\n",
              "      display:flex;\n",
              "      flex-wrap:wrap;\n",
              "      gap: 12px;\n",
              "    }\n",
              "\n",
              "    .colab-df-convert {\n",
              "      background-color: #E8F0FE;\n",
              "      border: none;\n",
              "      border-radius: 50%;\n",
              "      cursor: pointer;\n",
              "      display: none;\n",
              "      fill: #1967D2;\n",
              "      height: 32px;\n",
              "      padding: 0 0 0 0;\n",
              "      width: 32px;\n",
              "    }\n",
              "\n",
              "    .colab-df-convert:hover {\n",
              "      background-color: #E2EBFA;\n",
              "      box-shadow: 0px 1px 2px rgba(60, 64, 67, 0.3), 0px 1px 3px 1px rgba(60, 64, 67, 0.15);\n",
              "      fill: #174EA6;\n",
              "    }\n",
              "\n",
              "    [theme=dark] .colab-df-convert {\n",
              "      background-color: #3B4455;\n",
              "      fill: #D2E3FC;\n",
              "    }\n",
              "\n",
              "    [theme=dark] .colab-df-convert:hover {\n",
              "      background-color: #434B5C;\n",
              "      box-shadow: 0px 1px 3px 1px rgba(0, 0, 0, 0.15);\n",
              "      filter: drop-shadow(0px 1px 2px rgba(0, 0, 0, 0.3));\n",
              "      fill: #FFFFFF;\n",
              "    }\n",
              "  </style>\n",
              "\n",
              "      <script>\n",
              "        const buttonEl =\n",
              "          document.querySelector('#df-88ff4448-35c5-416b-a7ed-6af1f50f14a3 button.colab-df-convert');\n",
              "        buttonEl.style.display =\n",
              "          google.colab.kernel.accessAllowed ? 'block' : 'none';\n",
              "\n",
              "        async function convertToInteractive(key) {\n",
              "          const element = document.querySelector('#df-88ff4448-35c5-416b-a7ed-6af1f50f14a3');\n",
              "          const dataTable =\n",
              "            await google.colab.kernel.invokeFunction('convertToInteractive',\n",
              "                                                     [key], {});\n",
              "          if (!dataTable) return;\n",
              "\n",
              "          const docLinkHtml = 'Like what you see? Visit the ' +\n",
              "            '<a target=\"_blank\" href=https://colab.research.google.com/notebooks/data_table.ipynb>data table notebook</a>'\n",
              "            + ' to learn more about interactive tables.';\n",
              "          element.innerHTML = '';\n",
              "          dataTable['output_type'] = 'display_data';\n",
              "          await google.colab.output.renderOutput(dataTable, element);\n",
              "          const docLink = document.createElement('div');\n",
              "          docLink.innerHTML = docLinkHtml;\n",
              "          element.appendChild(docLink);\n",
              "        }\n",
              "      </script>\n",
              "    </div>\n",
              "  </div>\n",
              "  "
            ]
          },
          "metadata": {},
          "execution_count": 6
        }
      ]
    },
    {
      "cell_type": "code",
      "metadata": {
        "colab": {
          "base_uri": "https://localhost:8080/",
          "height": 206
        },
        "id": "1yVHXsZAsC79",
        "outputId": "6cbca223-f887-47dc-c907-83282cb5f258"
      },
      "source": [
        "#Jalankan Kode Ini untuk Mengurutkan Data Berdasarkan Tanggal\n",
        "\n",
        "new_df = df_data[['at','score', 'content']]\n",
        "sorted_df = new_df.sort_values(by='at', ascending=False) #Sort by Newst, change to True if you want to sort by Oldest.\n",
        "sorted_df.head()"
      ],
      "execution_count": null,
      "outputs": [
        {
          "output_type": "execute_result",
          "data": {
            "text/plain": [
              "                     at  score  \\\n",
              "201 2022-06-15 05:08:13      5   \n",
              "315 2022-06-14 12:45:13      1   \n",
              "314 2022-06-14 12:30:03      1   \n",
              "36  2022-06-14 12:19:40      3   \n",
              "198 2022-06-14 10:02:02      1   \n",
              "\n",
              "                                               content  \n",
              "201  Aplikasi sudah normal, semoga tidak terjadi ke...  \n",
              "315  Semakin diperbarui semakin lemot, berat, dikit...  \n",
              "314  2 kali pembaharuan terakhir, di hp saya, oppo ...  \n",
              "36   Sy tidak bicara soal kemudahan berbelanjanya k...  \n",
              "198  Selamat tinggal Shopee. Aplikasi TERBURUK!! me...  "
            ],
            "text/html": [
              "\n",
              "  <div id=\"df-e2fc165b-eeea-42e2-af50-dd4f8ac4aeea\">\n",
              "    <div class=\"colab-df-container\">\n",
              "      <div>\n",
              "<style scoped>\n",
              "    .dataframe tbody tr th:only-of-type {\n",
              "        vertical-align: middle;\n",
              "    }\n",
              "\n",
              "    .dataframe tbody tr th {\n",
              "        vertical-align: top;\n",
              "    }\n",
              "\n",
              "    .dataframe thead th {\n",
              "        text-align: right;\n",
              "    }\n",
              "</style>\n",
              "<table border=\"1\" class=\"dataframe\">\n",
              "  <thead>\n",
              "    <tr style=\"text-align: right;\">\n",
              "      <th></th>\n",
              "      <th>at</th>\n",
              "      <th>score</th>\n",
              "      <th>content</th>\n",
              "    </tr>\n",
              "  </thead>\n",
              "  <tbody>\n",
              "    <tr>\n",
              "      <th>201</th>\n",
              "      <td>2022-06-15 05:08:13</td>\n",
              "      <td>5</td>\n",
              "      <td>Aplikasi sudah normal, semoga tidak terjadi ke...</td>\n",
              "    </tr>\n",
              "    <tr>\n",
              "      <th>315</th>\n",
              "      <td>2022-06-14 12:45:13</td>\n",
              "      <td>1</td>\n",
              "      <td>Semakin diperbarui semakin lemot, berat, dikit...</td>\n",
              "    </tr>\n",
              "    <tr>\n",
              "      <th>314</th>\n",
              "      <td>2022-06-14 12:30:03</td>\n",
              "      <td>1</td>\n",
              "      <td>2 kali pembaharuan terakhir, di hp saya, oppo ...</td>\n",
              "    </tr>\n",
              "    <tr>\n",
              "      <th>36</th>\n",
              "      <td>2022-06-14 12:19:40</td>\n",
              "      <td>3</td>\n",
              "      <td>Sy tidak bicara soal kemudahan berbelanjanya k...</td>\n",
              "    </tr>\n",
              "    <tr>\n",
              "      <th>198</th>\n",
              "      <td>2022-06-14 10:02:02</td>\n",
              "      <td>1</td>\n",
              "      <td>Selamat tinggal Shopee. Aplikasi TERBURUK!! me...</td>\n",
              "    </tr>\n",
              "  </tbody>\n",
              "</table>\n",
              "</div>\n",
              "      <button class=\"colab-df-convert\" onclick=\"convertToInteractive('df-e2fc165b-eeea-42e2-af50-dd4f8ac4aeea')\"\n",
              "              title=\"Convert this dataframe to an interactive table.\"\n",
              "              style=\"display:none;\">\n",
              "        \n",
              "  <svg xmlns=\"http://www.w3.org/2000/svg\" height=\"24px\"viewBox=\"0 0 24 24\"\n",
              "       width=\"24px\">\n",
              "    <path d=\"M0 0h24v24H0V0z\" fill=\"none\"/>\n",
              "    <path d=\"M18.56 5.44l.94 2.06.94-2.06 2.06-.94-2.06-.94-.94-2.06-.94 2.06-2.06.94zm-11 1L8.5 8.5l.94-2.06 2.06-.94-2.06-.94L8.5 2.5l-.94 2.06-2.06.94zm10 10l.94 2.06.94-2.06 2.06-.94-2.06-.94-.94-2.06-.94 2.06-2.06.94z\"/><path d=\"M17.41 7.96l-1.37-1.37c-.4-.4-.92-.59-1.43-.59-.52 0-1.04.2-1.43.59L10.3 9.45l-7.72 7.72c-.78.78-.78 2.05 0 2.83L4 21.41c.39.39.9.59 1.41.59.51 0 1.02-.2 1.41-.59l7.78-7.78 2.81-2.81c.8-.78.8-2.07 0-2.86zM5.41 20L4 18.59l7.72-7.72 1.47 1.35L5.41 20z\"/>\n",
              "  </svg>\n",
              "      </button>\n",
              "      \n",
              "  <style>\n",
              "    .colab-df-container {\n",
              "      display:flex;\n",
              "      flex-wrap:wrap;\n",
              "      gap: 12px;\n",
              "    }\n",
              "\n",
              "    .colab-df-convert {\n",
              "      background-color: #E8F0FE;\n",
              "      border: none;\n",
              "      border-radius: 50%;\n",
              "      cursor: pointer;\n",
              "      display: none;\n",
              "      fill: #1967D2;\n",
              "      height: 32px;\n",
              "      padding: 0 0 0 0;\n",
              "      width: 32px;\n",
              "    }\n",
              "\n",
              "    .colab-df-convert:hover {\n",
              "      background-color: #E2EBFA;\n",
              "      box-shadow: 0px 1px 2px rgba(60, 64, 67, 0.3), 0px 1px 3px 1px rgba(60, 64, 67, 0.15);\n",
              "      fill: #174EA6;\n",
              "    }\n",
              "\n",
              "    [theme=dark] .colab-df-convert {\n",
              "      background-color: #3B4455;\n",
              "      fill: #D2E3FC;\n",
              "    }\n",
              "\n",
              "    [theme=dark] .colab-df-convert:hover {\n",
              "      background-color: #434B5C;\n",
              "      box-shadow: 0px 1px 3px 1px rgba(0, 0, 0, 0.15);\n",
              "      filter: drop-shadow(0px 1px 2px rgba(0, 0, 0, 0.3));\n",
              "      fill: #FFFFFF;\n",
              "    }\n",
              "  </style>\n",
              "\n",
              "      <script>\n",
              "        const buttonEl =\n",
              "          document.querySelector('#df-e2fc165b-eeea-42e2-af50-dd4f8ac4aeea button.colab-df-convert');\n",
              "        buttonEl.style.display =\n",
              "          google.colab.kernel.accessAllowed ? 'block' : 'none';\n",
              "\n",
              "        async function convertToInteractive(key) {\n",
              "          const element = document.querySelector('#df-e2fc165b-eeea-42e2-af50-dd4f8ac4aeea');\n",
              "          const dataTable =\n",
              "            await google.colab.kernel.invokeFunction('convertToInteractive',\n",
              "                                                     [key], {});\n",
              "          if (!dataTable) return;\n",
              "\n",
              "          const docLinkHtml = 'Like what you see? Visit the ' +\n",
              "            '<a target=\"_blank\" href=https://colab.research.google.com/notebooks/data_table.ipynb>data table notebook</a>'\n",
              "            + ' to learn more about interactive tables.';\n",
              "          element.innerHTML = '';\n",
              "          dataTable['output_type'] = 'display_data';\n",
              "          await google.colab.output.renderOutput(dataTable, element);\n",
              "          const docLink = document.createElement('div');\n",
              "          docLink.innerHTML = docLinkHtml;\n",
              "          element.appendChild(docLink);\n",
              "        }\n",
              "      </script>\n",
              "    </div>\n",
              "  </div>\n",
              "  "
            ]
          },
          "metadata": {},
          "execution_count": 7
        }
      ]
    },
    {
      "cell_type": "code",
      "metadata": {
        "id": "yCUyHN58Pngt"
      },
      "source": [
        "#Dapatkan hanya Nama_Pengguna, Peringkat, Tanggal, dan Tanggapan\n",
        "\n",
        "df = sorted_df[['at','score', 'content']] "
      ],
      "execution_count": null,
      "outputs": []
    },
    {
      "cell_type": "code",
      "metadata": {
        "colab": {
          "base_uri": "https://localhost:8080/",
          "height": 206
        },
        "id": "L1FpkUiutQds",
        "outputId": "22991f07-e542-4a81-a53c-c08b2509af25"
      },
      "source": [
        "df.head()"
      ],
      "execution_count": null,
      "outputs": [
        {
          "output_type": "execute_result",
          "data": {
            "text/plain": [
              "                     at  score  \\\n",
              "201 2022-06-15 05:08:13      5   \n",
              "315 2022-06-14 12:45:13      1   \n",
              "314 2022-06-14 12:30:03      1   \n",
              "36  2022-06-14 12:19:40      3   \n",
              "198 2022-06-14 10:02:02      1   \n",
              "\n",
              "                                               content  \n",
              "201  Aplikasi sudah normal, semoga tidak terjadi ke...  \n",
              "315  Semakin diperbarui semakin lemot, berat, dikit...  \n",
              "314  2 kali pembaharuan terakhir, di hp saya, oppo ...  \n",
              "36   Sy tidak bicara soal kemudahan berbelanjanya k...  \n",
              "198  Selamat tinggal Shopee. Aplikasi TERBURUK!! me...  "
            ],
            "text/html": [
              "\n",
              "  <div id=\"df-8ebe22c6-3c8d-41d7-8a90-73748cb9b299\">\n",
              "    <div class=\"colab-df-container\">\n",
              "      <div>\n",
              "<style scoped>\n",
              "    .dataframe tbody tr th:only-of-type {\n",
              "        vertical-align: middle;\n",
              "    }\n",
              "\n",
              "    .dataframe tbody tr th {\n",
              "        vertical-align: top;\n",
              "    }\n",
              "\n",
              "    .dataframe thead th {\n",
              "        text-align: right;\n",
              "    }\n",
              "</style>\n",
              "<table border=\"1\" class=\"dataframe\">\n",
              "  <thead>\n",
              "    <tr style=\"text-align: right;\">\n",
              "      <th></th>\n",
              "      <th>at</th>\n",
              "      <th>score</th>\n",
              "      <th>content</th>\n",
              "    </tr>\n",
              "  </thead>\n",
              "  <tbody>\n",
              "    <tr>\n",
              "      <th>201</th>\n",
              "      <td>2022-06-15 05:08:13</td>\n",
              "      <td>5</td>\n",
              "      <td>Aplikasi sudah normal, semoga tidak terjadi ke...</td>\n",
              "    </tr>\n",
              "    <tr>\n",
              "      <th>315</th>\n",
              "      <td>2022-06-14 12:45:13</td>\n",
              "      <td>1</td>\n",
              "      <td>Semakin diperbarui semakin lemot, berat, dikit...</td>\n",
              "    </tr>\n",
              "    <tr>\n",
              "      <th>314</th>\n",
              "      <td>2022-06-14 12:30:03</td>\n",
              "      <td>1</td>\n",
              "      <td>2 kali pembaharuan terakhir, di hp saya, oppo ...</td>\n",
              "    </tr>\n",
              "    <tr>\n",
              "      <th>36</th>\n",
              "      <td>2022-06-14 12:19:40</td>\n",
              "      <td>3</td>\n",
              "      <td>Sy tidak bicara soal kemudahan berbelanjanya k...</td>\n",
              "    </tr>\n",
              "    <tr>\n",
              "      <th>198</th>\n",
              "      <td>2022-06-14 10:02:02</td>\n",
              "      <td>1</td>\n",
              "      <td>Selamat tinggal Shopee. Aplikasi TERBURUK!! me...</td>\n",
              "    </tr>\n",
              "  </tbody>\n",
              "</table>\n",
              "</div>\n",
              "      <button class=\"colab-df-convert\" onclick=\"convertToInteractive('df-8ebe22c6-3c8d-41d7-8a90-73748cb9b299')\"\n",
              "              title=\"Convert this dataframe to an interactive table.\"\n",
              "              style=\"display:none;\">\n",
              "        \n",
              "  <svg xmlns=\"http://www.w3.org/2000/svg\" height=\"24px\"viewBox=\"0 0 24 24\"\n",
              "       width=\"24px\">\n",
              "    <path d=\"M0 0h24v24H0V0z\" fill=\"none\"/>\n",
              "    <path d=\"M18.56 5.44l.94 2.06.94-2.06 2.06-.94-2.06-.94-.94-2.06-.94 2.06-2.06.94zm-11 1L8.5 8.5l.94-2.06 2.06-.94-2.06-.94L8.5 2.5l-.94 2.06-2.06.94zm10 10l.94 2.06.94-2.06 2.06-.94-2.06-.94-.94-2.06-.94 2.06-2.06.94z\"/><path d=\"M17.41 7.96l-1.37-1.37c-.4-.4-.92-.59-1.43-.59-.52 0-1.04.2-1.43.59L10.3 9.45l-7.72 7.72c-.78.78-.78 2.05 0 2.83L4 21.41c.39.39.9.59 1.41.59.51 0 1.02-.2 1.41-.59l7.78-7.78 2.81-2.81c.8-.78.8-2.07 0-2.86zM5.41 20L4 18.59l7.72-7.72 1.47 1.35L5.41 20z\"/>\n",
              "  </svg>\n",
              "      </button>\n",
              "      \n",
              "  <style>\n",
              "    .colab-df-container {\n",
              "      display:flex;\n",
              "      flex-wrap:wrap;\n",
              "      gap: 12px;\n",
              "    }\n",
              "\n",
              "    .colab-df-convert {\n",
              "      background-color: #E8F0FE;\n",
              "      border: none;\n",
              "      border-radius: 50%;\n",
              "      cursor: pointer;\n",
              "      display: none;\n",
              "      fill: #1967D2;\n",
              "      height: 32px;\n",
              "      padding: 0 0 0 0;\n",
              "      width: 32px;\n",
              "    }\n",
              "\n",
              "    .colab-df-convert:hover {\n",
              "      background-color: #E2EBFA;\n",
              "      box-shadow: 0px 1px 2px rgba(60, 64, 67, 0.3), 0px 1px 3px 1px rgba(60, 64, 67, 0.15);\n",
              "      fill: #174EA6;\n",
              "    }\n",
              "\n",
              "    [theme=dark] .colab-df-convert {\n",
              "      background-color: #3B4455;\n",
              "      fill: #D2E3FC;\n",
              "    }\n",
              "\n",
              "    [theme=dark] .colab-df-convert:hover {\n",
              "      background-color: #434B5C;\n",
              "      box-shadow: 0px 1px 3px 1px rgba(0, 0, 0, 0.15);\n",
              "      filter: drop-shadow(0px 1px 2px rgba(0, 0, 0, 0.3));\n",
              "      fill: #FFFFFF;\n",
              "    }\n",
              "  </style>\n",
              "\n",
              "      <script>\n",
              "        const buttonEl =\n",
              "          document.querySelector('#df-8ebe22c6-3c8d-41d7-8a90-73748cb9b299 button.colab-df-convert');\n",
              "        buttonEl.style.display =\n",
              "          google.colab.kernel.accessAllowed ? 'block' : 'none';\n",
              "\n",
              "        async function convertToInteractive(key) {\n",
              "          const element = document.querySelector('#df-8ebe22c6-3c8d-41d7-8a90-73748cb9b299');\n",
              "          const dataTable =\n",
              "            await google.colab.kernel.invokeFunction('convertToInteractive',\n",
              "                                                     [key], {});\n",
              "          if (!dataTable) return;\n",
              "\n",
              "          const docLinkHtml = 'Like what you see? Visit the ' +\n",
              "            '<a target=\"_blank\" href=https://colab.research.google.com/notebooks/data_table.ipynb>data table notebook</a>'\n",
              "            + ' to learn more about interactive tables.';\n",
              "          element.innerHTML = '';\n",
              "          dataTable['output_type'] = 'display_data';\n",
              "          await google.colab.output.renderOutput(dataTable, element);\n",
              "          const docLink = document.createElement('div');\n",
              "          docLink.innerHTML = docLinkHtml;\n",
              "          element.appendChild(docLink);\n",
              "        }\n",
              "      </script>\n",
              "    </div>\n",
              "  </div>\n",
              "  "
            ]
          },
          "metadata": {},
          "execution_count": 9
        }
      ]
    },
    {
      "cell_type": "code",
      "execution_count": null,
      "metadata": {
        "colab": {
          "base_uri": "https://localhost:8080/"
        },
        "id": "mApamD3HO7TG",
        "outputId": "1c02fa53-0012-470c-cf50-d8f35a37fd57"
      },
      "outputs": [
        {
          "output_type": "execute_result",
          "data": {
            "text/plain": [
              "201    5\n",
              "315    1\n",
              "314    1\n",
              "36     3\n",
              "198    1\n",
              "Name: score, dtype: int64"
            ]
          },
          "metadata": {},
          "execution_count": 11
        }
      ],
      "source": [
        "#menampilkan data label\n",
        "y = df['score']\n",
        "y[0:5]\n"
      ]
    },
    {
      "cell_type": "code",
      "execution_count": null,
      "metadata": {
        "colab": {
          "base_uri": "https://localhost:8080/",
          "height": 296
        },
        "id": "5R9WXDdrO7TH",
        "outputId": "eda5c676-1709-4110-ee11-b4079dd7709f"
      },
      "outputs": [
        {
          "output_type": "execute_result",
          "data": {
            "text/plain": [
              "<matplotlib.axes._subplots.AxesSubplot at 0x7efc6e28d550>"
            ]
          },
          "metadata": {},
          "execution_count": 12
        },
        {
          "output_type": "display_data",
          "data": {
            "text/plain": [
              "<Figure size 432x288 with 1 Axes>"
            ],
            "image/png": "[encoded data removed]"
          },
          "metadata": {
            "needs_background": "light"
          }
        }
      ],
      "source": [
        "#menampilkan grafik nilai dari variabel \"label\"\n",
        "sns.countplot(x=\"score\", data=df)"
      ]
    },
    {
      "cell_type": "code",
      "execution_count": null,
      "metadata": {
        "colab": {
          "base_uri": "https://localhost:8080/"
        },
        "id": "FjO-bYybO7TI",
        "outputId": "f22409dd-8b51-4fed-9fd3-7314979cbc38"
      },
      "outputs": [
        {
          "output_type": "execute_result",
          "data": {
            "text/plain": [
              "1    468\n",
              "5    191\n",
              "2    142\n",
              "3    125\n",
              "4     74\n",
              "Name: score, dtype: int64"
            ]
          },
          "metadata": {},
          "execution_count": 13
        }
      ],
      "source": [
        "#menghitung jumlah data masing-masing label\n",
        "df[\"score\"].value_counts()"
      ]
    },
    {
      "cell_type": "markdown",
      "metadata": {
        "id": "ACYtWuxAy4nU"
      },
      "source": [
        "### 2. Proses Preprocessing "
      ]
    },
    {
      "cell_type": "code",
      "source": [
        "def pelabelan(score):\n",
        "  if score < 4:\n",
        "    return 'NEGATIF'\n",
        "  else:\n",
        "    return 'POSITIF'\n",
        "  \n",
        "df['label'] = df['score'].apply(pelabelan)\n",
        "df.head(5)"
      ],
      "metadata": {
        "colab": {
          "base_uri": "https://localhost:8080/",
          "height": 206
        },
        "id": "TmuB3hpA74Cw",
        "outputId": "91fa2375-9ee6-4430-abd6-a9720a11b8df"
      },
      "execution_count": null,
      "outputs": [
        {
          "output_type": "execute_result",
          "data": {
            "text/plain": [
              "                     at  score  \\\n",
              "201 2022-06-15 05:08:13      5   \n",
              "315 2022-06-14 12:45:13      1   \n",
              "314 2022-06-14 12:30:03      1   \n",
              "36  2022-06-14 12:19:40      3   \n",
              "198 2022-06-14 10:02:02      1   \n",
              "\n",
              "                                               content    label  \n",
              "201  Aplikasi sudah normal, semoga tidak terjadi ke...  POSITIF  \n",
              "315  Semakin diperbarui semakin lemot, berat, dikit...  NEGATIF  \n",
              "314  2 kali pembaharuan terakhir, di hp saya, oppo ...  NEGATIF  \n",
              "36   Sy tidak bicara soal kemudahan berbelanjanya k...  NEGATIF  \n",
              "198  Selamat tinggal Shopee. Aplikasi TERBURUK!! me...  NEGATIF  "
            ],
            "text/html": [
              "\n",
              "  <div id=\"df-a295d429-fb89-4b56-afad-739e90894f79\">\n",
              "    <div class=\"colab-df-container\">\n",
              "      <div>\n",
              "<style scoped>\n",
              "    .dataframe tbody tr th:only-of-type {\n",
              "        vertical-align: middle;\n",
              "    }\n",
              "\n",
              "    .dataframe tbody tr th {\n",
              "        vertical-align: top;\n",
              "    }\n",
              "\n",
              "    .dataframe thead th {\n",
              "        text-align: right;\n",
              "    }\n",
              "</style>\n",
              "<table border=\"1\" class=\"dataframe\">\n",
              "  <thead>\n",
              "    <tr style=\"text-align: right;\">\n",
              "      <th></th>\n",
              "      <th>at</th>\n",
              "      <th>score</th>\n",
              "      <th>content</th>\n",
              "      <th>label</th>\n",
              "    </tr>\n",
              "  </thead>\n",
              "  <tbody>\n",
              "    <tr>\n",
              "      <th>201</th>\n",
              "      <td>2022-06-15 05:08:13</td>\n",
              "      <td>5</td>\n",
              "      <td>Aplikasi sudah normal, semoga tidak terjadi ke...</td>\n",
              "      <td>POSITIF</td>\n",
              "    </tr>\n",
              "    <tr>\n",
              "      <th>315</th>\n",
              "      <td>2022-06-14 12:45:13</td>\n",
              "      <td>1</td>\n",
              "      <td>Semakin diperbarui semakin lemot, berat, dikit...</td>\n",
              "      <td>NEGATIF</td>\n",
              "    </tr>\n",
              "    <tr>\n",
              "      <th>314</th>\n",
              "      <td>2022-06-14 12:30:03</td>\n",
              "      <td>1</td>\n",
              "      <td>2 kali pembaharuan terakhir, di hp saya, oppo ...</td>\n",
              "      <td>NEGATIF</td>\n",
              "    </tr>\n",
              "    <tr>\n",
              "      <th>36</th>\n",
              "      <td>2022-06-14 12:19:40</td>\n",
              "      <td>3</td>\n",
              "      <td>Sy tidak bicara soal kemudahan berbelanjanya k...</td>\n",
              "      <td>NEGATIF</td>\n",
              "    </tr>\n",
              "    <tr>\n",
              "      <th>198</th>\n",
              "      <td>2022-06-14 10:02:02</td>\n",
              "      <td>1</td>\n",
              "      <td>Selamat tinggal Shopee. Aplikasi TERBURUK!! me...</td>\n",
              "      <td>NEGATIF</td>\n",
              "    </tr>\n",
              "  </tbody>\n",
              "</table>\n",
              "</div>\n",
              "      <button class=\"colab-df-convert\" onclick=\"convertToInteractive('df-a295d429-fb89-4b56-afad-739e90894f79')\"\n",
              "              title=\"Convert this dataframe to an interactive table.\"\n",
              "              style=\"display:none;\">\n",
              "        \n",
              "  <svg xmlns=\"http://www.w3.org/2000/svg\" height=\"24px\"viewBox=\"0 0 24 24\"\n",
              "       width=\"24px\">\n",
              "    <path d=\"M0 0h24v24H0V0z\" fill=\"none\"/>\n",
              "    <path d=\"M18.56 5.44l.94 2.06.94-2.06 2.06-.94-2.06-.94-.94-2.06-.94 2.06-2.06.94zm-11 1L8.5 8.5l.94-2.06 2.06-.94-2.06-.94L8.5 2.5l-.94 2.06-2.06.94zm10 10l.94 2.06.94-2.06 2.06-.94-2.06-.94-.94-2.06-.94 2.06-2.06.94z\"/><path d=\"M17.41 7.96l-1.37-1.37c-.4-.4-.92-.59-1.43-.59-.52 0-1.04.2-1.43.59L10.3 9.45l-7.72 7.72c-.78.78-.78 2.05 0 2.83L4 21.41c.39.39.9.59 1.41.59.51 0 1.02-.2 1.41-.59l7.78-7.78 2.81-2.81c.8-.78.8-2.07 0-2.86zM5.41 20L4 18.59l7.72-7.72 1.47 1.35L5.41 20z\"/>\n",
              "  </svg>\n",
              "      </button>\n",
              "      \n",
              "  <style>\n",
              "    .colab-df-container {\n",
              "      display:flex;\n",
              "      flex-wrap:wrap;\n",
              "      gap: 12px;\n",
              "    }\n",
              "\n",
              "    .colab-df-convert {\n",
              "      background-color: #E8F0FE;\n",
              "      border: none;\n",
              "      border-radius: 50%;\n",
              "      cursor: pointer;\n",
              "      display: none;\n",
              "      fill: #1967D2;\n",
              "      height: 32px;\n",
              "      padding: 0 0 0 0;\n",
              "      width: 32px;\n",
              "    }\n",
              "\n",
              "    .colab-df-convert:hover {\n",
              "      background-color: #E2EBFA;\n",
              "      box-shadow: 0px 1px 2px rgba(60, 64, 67, 0.3), 0px 1px 3px 1px rgba(60, 64, 67, 0.15);\n",
              "      fill: #174EA6;\n",
              "    }\n",
              "\n",
              "    [theme=dark] .colab-df-convert {\n",
              "      background-color: #3B4455;\n",
              "      fill: #D2E3FC;\n",
              "    }\n",
              "\n",
              "    [theme=dark] .colab-df-convert:hover {\n",
              "      background-color: #434B5C;\n",
              "      box-shadow: 0px 1px 3px 1px rgba(0, 0, 0, 0.15);\n",
              "      filter: drop-shadow(0px 1px 2px rgba(0, 0, 0, 0.3));\n",
              "      fill: #FFFFFF;\n",
              "    }\n",
              "  </style>\n",
              "\n",
              "      <script>\n",
              "        const buttonEl =\n",
              "          document.querySelector('#df-a295d429-fb89-4b56-afad-739e90894f79 button.colab-df-convert');\n",
              "        buttonEl.style.display =\n",
              "          google.colab.kernel.accessAllowed ? 'block' : 'none';\n",
              "\n",
              "        async function convertToInteractive(key) {\n",
              "          const element = document.querySelector('#df-a295d429-fb89-4b56-afad-739e90894f79');\n",
              "          const dataTable =\n",
              "            await google.colab.kernel.invokeFunction('convertToInteractive',\n",
              "                                                     [key], {});\n",
              "          if (!dataTable) return;\n",
              "\n",
              "          const docLinkHtml = 'Like what you see? Visit the ' +\n",
              "            '<a target=\"_blank\" href=https://colab.research.google.com/notebooks/data_table.ipynb>data table notebook</a>'\n",
              "            + ' to learn more about interactive tables.';\n",
              "          element.innerHTML = '';\n",
              "          dataTable['output_type'] = 'display_data';\n",
              "          await google.colab.output.renderOutput(dataTable, element);\n",
              "          const docLink = document.createElement('div');\n",
              "          docLink.innerHTML = docLinkHtml;\n",
              "          element.appendChild(docLink);\n",
              "        }\n",
              "      </script>\n",
              "    </div>\n",
              "  </div>\n",
              "  "
            ]
          },
          "metadata": {},
          "execution_count": 10
        }
      ]
    },
    {
      "cell_type": "code",
      "execution_count": null,
      "metadata": {
        "id": "5yPmNtqSQATj",
        "colab": {
          "base_uri": "https://localhost:8080/"
        },
        "outputId": "6ed50cfc-6df8-4cd9-8653-a00f18b9a1b6"
      },
      "outputs": [
        {
          "output_type": "stream",
          "name": "stdout",
          "text": [
            "Looking in indexes: https://pypi.org/simple, https://us-python.pkg.dev/colab-wheels/public/simple/\n",
            "Requirement already satisfied: nltk in /usr/local/lib/python3.7/dist-packages (3.7)\n",
            "Requirement already satisfied: regex>=2021.8.3 in /usr/local/lib/python3.7/dist-packages (from nltk) (2022.6.2)\n",
            "Requirement already satisfied: joblib in /usr/local/lib/python3.7/dist-packages (from nltk) (1.1.0)\n",
            "Requirement already satisfied: tqdm in /usr/local/lib/python3.7/dist-packages (from nltk) (4.64.0)\n",
            "Requirement already satisfied: click in /usr/local/lib/python3.7/dist-packages (from nltk) (7.1.2)\n"
          ]
        }
      ],
      "source": [
        "!pip install nltk"
      ]
    },
    {
      "cell_type": "code",
      "execution_count": null,
      "metadata": {
        "id": "cW5kdU5rd2x9",
        "colab": {
          "base_uri": "https://localhost:8080/"
        },
        "outputId": "f00d6446-462e-4658-efa2-a722237c1c07"
      },
      "outputs": [
        {
          "output_type": "stream",
          "name": "stderr",
          "text": [
            "[nltk_data] Downloading package punkt to /root/nltk_data...\n",
            "[nltk_data]   Unzipping tokenizers/punkt.zip.\n"
          ]
        },
        {
          "output_type": "execute_result",
          "data": {
            "text/plain": [
              "True"
            ]
          },
          "metadata": {},
          "execution_count": 15
        }
      ],
      "source": [
        "import nltk\n",
        "import re\n",
        "import string\n",
        "nltk.download('punkt')"
      ]
    },
    {
      "cell_type": "code",
      "execution_count": null,
      "metadata": {
        "colab": {
          "base_uri": "https://localhost:8080/",
          "height": 206
        },
        "id": "geFGLnxgU_xR",
        "outputId": "fab1b7c4-4953-4c79-c534-3c352c9cb946"
      },
      "outputs": [
        {
          "output_type": "execute_result",
          "data": {
            "text/plain": [
              "                     at  score  \\\n",
              "201 2022-06-15 05:08:13      5   \n",
              "315 2022-06-14 12:45:13      1   \n",
              "314 2022-06-14 12:30:03      1   \n",
              "36  2022-06-14 12:19:40      3   \n",
              "198 2022-06-14 10:02:02      1   \n",
              "\n",
              "                                               content    label  \n",
              "201  aplikasi sudah normal semoga tidak terjadi kes...  POSITIF  \n",
              "315  semakin diperbarui semakin lemot berat dikit b...  NEGATIF  \n",
              "314  kali pembaharuan terakhir di hp saya oppo af a...  NEGATIF  \n",
              "36   sy tidak bicara soal kemudahan berbelanjanya k...  NEGATIF  \n",
              "198  selamat tinggal shopee aplikasi terburuk mendi...  NEGATIF  "
            ],
            "text/html": [
              "\n",
              "  <div id=\"df-5712b060-9f77-4fac-b8b5-60be32056c4a\">\n",
              "    <div class=\"colab-df-container\">\n",
              "      <div>\n",
              "<style scoped>\n",
              "    .dataframe tbody tr th:only-of-type {\n",
              "        vertical-align: middle;\n",
              "    }\n",
              "\n",
              "    .dataframe tbody tr th {\n",
              "        vertical-align: top;\n",
              "    }\n",
              "\n",
              "    .dataframe thead th {\n",
              "        text-align: right;\n",
              "    }\n",
              "</style>\n",
              "<table border=\"1\" class=\"dataframe\">\n",
              "  <thead>\n",
              "    <tr style=\"text-align: right;\">\n",
              "      <th></th>\n",
              "      <th>at</th>\n",
              "      <th>score</th>\n",
              "      <th>content</th>\n",
              "      <th>label</th>\n",
              "    </tr>\n",
              "  </thead>\n",
              "  <tbody>\n",
              "    <tr>\n",
              "      <th>201</th>\n",
              "      <td>2022-06-15 05:08:13</td>\n",
              "      <td>5</td>\n",
              "      <td>aplikasi sudah normal semoga tidak terjadi kes...</td>\n",
              "      <td>POSITIF</td>\n",
              "    </tr>\n",
              "    <tr>\n",
              "      <th>315</th>\n",
              "      <td>2022-06-14 12:45:13</td>\n",
              "      <td>1</td>\n",
              "      <td>semakin diperbarui semakin lemot berat dikit b...</td>\n",
              "      <td>NEGATIF</td>\n",
              "    </tr>\n",
              "    <tr>\n",
              "      <th>314</th>\n",
              "      <td>2022-06-14 12:30:03</td>\n",
              "      <td>1</td>\n",
              "      <td>kali pembaharuan terakhir di hp saya oppo af a...</td>\n",
              "      <td>NEGATIF</td>\n",
              "    </tr>\n",
              "    <tr>\n",
              "      <th>36</th>\n",
              "      <td>2022-06-14 12:19:40</td>\n",
              "      <td>3</td>\n",
              "      <td>sy tidak bicara soal kemudahan berbelanjanya k...</td>\n",
              "      <td>NEGATIF</td>\n",
              "    </tr>\n",
              "    <tr>\n",
              "      <th>198</th>\n",
              "      <td>2022-06-14 10:02:02</td>\n",
              "      <td>1</td>\n",
              "      <td>selamat tinggal shopee aplikasi terburuk mendi...</td>\n",
              "      <td>NEGATIF</td>\n",
              "    </tr>\n",
              "  </tbody>\n",
              "</table>\n",
              "</div>\n",
              "      <button class=\"colab-df-convert\" onclick=\"convertToInteractive('df-5712b060-9f77-4fac-b8b5-60be32056c4a')\"\n",
              "              title=\"Convert this dataframe to an interactive table.\"\n",
              "              style=\"display:none;\">\n",
              "        \n",
              "  <svg xmlns=\"http://www.w3.org/2000/svg\" height=\"24px\"viewBox=\"0 0 24 24\"\n",
              "       width=\"24px\">\n",
              "    <path d=\"M0 0h24v24H0V0z\" fill=\"none\"/>\n",
              "    <path d=\"M18.56 5.44l.94 2.06.94-2.06 2.06-.94-2.06-.94-.94-2.06-.94 2.06-2.06.94zm-11 1L8.5 8.5l.94-2.06 2.06-.94-2.06-.94L8.5 2.5l-.94 2.06-2.06.94zm10 10l.94 2.06.94-2.06 2.06-.94-2.06-.94-.94-2.06-.94 2.06-2.06.94z\"/><path d=\"M17.41 7.96l-1.37-1.37c-.4-.4-.92-.59-1.43-.59-.52 0-1.04.2-1.43.59L10.3 9.45l-7.72 7.72c-.78.78-.78 2.05 0 2.83L4 21.41c.39.39.9.59 1.41.59.51 0 1.02-.2 1.41-.59l7.78-7.78 2.81-2.81c.8-.78.8-2.07 0-2.86zM5.41 20L4 18.59l7.72-7.72 1.47 1.35L5.41 20z\"/>\n",
              "  </svg>\n",
              "      </button>\n",
              "      \n",
              "  <style>\n",
              "    .colab-df-container {\n",
              "      display:flex;\n",
              "      flex-wrap:wrap;\n",
              "      gap: 12px;\n",
              "    }\n",
              "\n",
              "    .colab-df-convert {\n",
              "      background-color: #E8F0FE;\n",
              "      border: none;\n",
              "      border-radius: 50%;\n",
              "      cursor: pointer;\n",
              "      display: none;\n",
              "      fill: #1967D2;\n",
              "      height: 32px;\n",
              "      padding: 0 0 0 0;\n",
              "      width: 32px;\n",
              "    }\n",
              "\n",
              "    .colab-df-convert:hover {\n",
              "      background-color: #E2EBFA;\n",
              "      box-shadow: 0px 1px 2px rgba(60, 64, 67, 0.3), 0px 1px 3px 1px rgba(60, 64, 67, 0.15);\n",
              "      fill: #174EA6;\n",
              "    }\n",
              "\n",
              "    [theme=dark] .colab-df-convert {\n",
              "      background-color: #3B4455;\n",
              "      fill: #D2E3FC;\n",
              "    }\n",
              "\n",
              "    [theme=dark] .colab-df-convert:hover {\n",
              "      background-color: #434B5C;\n",
              "      box-shadow: 0px 1px 3px 1px rgba(0, 0, 0, 0.15);\n",
              "      filter: drop-shadow(0px 1px 2px rgba(0, 0, 0, 0.3));\n",
              "      fill: #FFFFFF;\n",
              "    }\n",
              "  </style>\n",
              "\n",
              "      <script>\n",
              "        const buttonEl =\n",
              "          document.querySelector('#df-5712b060-9f77-4fac-b8b5-60be32056c4a button.colab-df-convert');\n",
              "        buttonEl.style.display =\n",
              "          google.colab.kernel.accessAllowed ? 'block' : 'none';\n",
              "\n",
              "        async function convertToInteractive(key) {\n",
              "          const element = document.querySelector('#df-5712b060-9f77-4fac-b8b5-60be32056c4a');\n",
              "          const dataTable =\n",
              "            await google.colab.kernel.invokeFunction('convertToInteractive',\n",
              "                                                     [key], {});\n",
              "          if (!dataTable) return;\n",
              "\n",
              "          const docLinkHtml = 'Like what you see? Visit the ' +\n",
              "            '<a target=\"_blank\" href=https://colab.research.google.com/notebooks/data_table.ipynb>data table notebook</a>'\n",
              "            + ' to learn more about interactive tables.';\n",
              "          element.innerHTML = '';\n",
              "          dataTable['output_type'] = 'display_data';\n",
              "          await google.colab.output.renderOutput(dataTable, element);\n",
              "          const docLink = document.createElement('div');\n",
              "          docLink.innerHTML = docLinkHtml;\n",
              "          element.appendChild(docLink);\n",
              "        }\n",
              "      </script>\n",
              "    </div>\n",
              "  </div>\n",
              "  "
            ]
          },
          "metadata": {},
          "execution_count": 16
        }
      ],
      "source": [
        "from os import remove\n",
        "def pre_process(text):\n",
        "  text = text.lower() # Merubah format text menjadi format huruf kecil (lowercase)\n",
        "  text = re.sub(r\"\\d+\", \"\", text) # menghapus karakter angka\n",
        "  text = text.translate(str.maketrans(\"\",\"\",string.punctuation))# menghapus karakter tanda baca\n",
        "  TEXT_CLEANING_RE = \"@#=-_\\S+|https?:\\S+http?:\\S|{^A-Za-z}+\" # menghapus karakter url dan simbol\n",
        "  text = text.strip() # menghapus karakter kosong\n",
        "  pisah = text.split() # memisahkan string kedalam list dengan spasi sebagai pemisah jika tidak ditentukan pemisahnya\n",
        "  tokens = nltk.tokenize.word_tokenize(text) # menggunakan library NLTK untuk memisahkan kata dalam sebuah kalimat\n",
        "  removed = []\n",
        "  for t in tokens:\n",
        "      removed.append(t)\n",
        "  return text\n",
        "\n",
        "df['content'] = df['content'].apply(lambda x:pre_process(x))\n",
        "df.head()"
      ]
    },
    {
      "cell_type": "code",
      "source": [
        "from matplotlib import pyplot as plt"
      ],
      "metadata": {
        "id": "vV5oaZKSTt91"
      },
      "execution_count": null,
      "outputs": []
    },
    {
      "cell_type": "code",
      "source": [
        "# Cek jumlah review positive dan negative\n",
        "plt.figure(figsize=(5,5))\n",
        "sns.countplot(x='label', data=df)\n",
        "plt.title('Hasil Score', fontsize=16)\n",
        "plt.ylabel('Counts', fontsize=15)\n",
        "plt.xlabel('Label', fontsize=15)\n",
        "plt.xticks(rotation='horizontal');"
      ],
      "metadata": {
        "id": "ISKjFIMIIKEx",
        "colab": {
          "base_uri": "https://localhost:8080/",
          "height": 357
        },
        "outputId": "da891cec-58a0-41b4-cedb-cf6243fd5820"
      },
      "execution_count": null,
      "outputs": [
        {
          "output_type": "display_data",
          "data": {
            "text/plain": [
              "<Figure size 360x360 with 1 Axes>"
            ],
            "image/png": "[encoded data removed]"
          },
          "metadata": {
            "needs_background": "light"
          }
        }
      ]
    },
    {
      "cell_type": "code",
      "source": [
        "!pip install wordcloud"
      ],
      "metadata": {
        "id": "nRfCO1djGk7n",
        "colab": {
          "base_uri": "https://localhost:8080/"
        },
        "outputId": "252b0f2b-b566-4835-c7cc-de0ef55861e3"
      },
      "execution_count": null,
      "outputs": [
        {
          "output_type": "stream",
          "name": "stdout",
          "text": [
            "Looking in indexes: https://pypi.org/simple, https://us-python.pkg.dev/colab-wheels/public/simple/\n",
            "Requirement already satisfied: wordcloud in /usr/local/lib/python3.7/dist-packages (1.5.0)\n",
            "Requirement already satisfied: pillow in /usr/local/lib/python3.7/dist-packages (from wordcloud) (7.1.2)\n",
            "Requirement already satisfied: numpy>=1.6.1 in /usr/local/lib/python3.7/dist-packages (from wordcloud) (1.21.6)\n"
          ]
        }
      ]
    },
    {
      "cell_type": "code",
      "source": [
        "from wordcloud import WordCloud "
      ],
      "metadata": {
        "id": "eoyDivuaHJzt"
      },
      "execution_count": null,
      "outputs": []
    },
    {
      "cell_type": "code",
      "source": [
        "# kata yang sering muncul (positif dan negatif)\n",
        "wordcloud = WordCloud(width = 800, height= 800, background_color = 'black', max_words = 1000, min_font_size = 20).generate(str(df))\n",
        "\n",
        "fig = plt.figure(figsize = (8,8), facecolor = None)\n",
        "plt.imshow(wordcloud)\n",
        "plt.axis('off')\n",
        "plt.show()"
      ],
      "metadata": {
        "colab": {
          "base_uri": "https://localhost:8080/",
          "height": 466
        },
        "id": "XAfrcb66FL57",
        "outputId": "4fe81907-afda-4ef5-d2ab-844a4f07d837"
      },
      "execution_count": null,
      "outputs": [
        {
          "output_type": "display_data",
          "data": {
            "text/plain": [
              "<Figure size 576x576 with 1 Axes>"
            ],
            "image/png": "[encoded data removed]"
          },
          "metadata": {
            "needs_background": "light"
          }
        }
      ]
    },
    {
      "cell_type": "code",
      "execution_count": null,
      "metadata": {
        "id": "25hBUSdW-XH2"
      },
      "outputs": [],
      "source": [
        "#Simpan file sebagai CSV\n",
        "df.to_csv(\"Hasil_Crawling.csv\", index = False) "
      ]
    },
    {
      "cell_type": "markdown",
      "metadata": {
        "id": "QYSRT6QQO7TQ"
      },
      "source": [
        "### 3. Proses Modelling"
      ]
    },
    {
      "cell_type": "code",
      "execution_count": null,
      "metadata": {
        "id": "OuebVpJnO7TQ",
        "colab": {
          "base_uri": "https://localhost:8080/"
        },
        "outputId": "bd6cb45b-e87f-4d89-eb61-9a2bdc7433ec"
      },
      "outputs": [
        {
          "output_type": "stream",
          "name": "stdout",
          "text": [
            "CPU times: user 310 ms, sys: 10.9 ms, total: 321 ms\n",
            "Wall time: 370 ms\n"
          ]
        }
      ],
      "source": [
        "#melakukan pemodelan prediksi\n",
        "\n",
        "%%time\n",
        "\n",
        "from sklearn.feature_extraction.text import TfidfVectorizer\n",
        "from sklearn.linear_model import LogisticRegression\n",
        "from sklearn.model_selection import train_test_split\n",
        "from sklearn.metrics import f1_score, log_loss\n",
        "\n",
        "\n",
        "#membangun vector space model\n",
        "vectorizer = TfidfVectorizer(ngram_range=(1,3), min_df=10)\n",
        "features = vectorizer.fit_transform(df.content)\n",
        "\n",
        "#melakukan split data training untuk mengetahui akurasi\n",
        "X_train, X_test, y_train, y_test = train_test_split(features, y, test_size=0.2, random_state=4)\n",
        "\n",
        "#modeling sentiment\n",
        "LR_ = LogisticRegression(C=3, solver='liblinear', max_iter=150).fit(X_train, y_train)\n",
        "\n"
      ]
    },
    {
      "cell_type": "code",
      "execution_count": null,
      "metadata": {
        "id": "90yiG_1YO7TS",
        "colab": {
          "base_uri": "https://localhost:8080/"
        },
        "outputId": "49534ec1-f982-462d-871f-1026bdff1c01"
      },
      "outputs": [
        {
          "output_type": "stream",
          "name": "stdout",
          "text": [
            "F1 score :  0.4926107297702235\n",
            "Log Loss :  1.184060218745649\n"
          ]
        }
      ],
      "source": [
        "#melakukan evaluasi\n",
        "yhat = LR_.predict(X_test)\n",
        "print('F1 score : ', f1_score(y_test, yhat, average='weighted'))\n",
        "\n",
        "yhat_prob = LR_.predict_proba(X_test)\n",
        "print ('Log Loss : ', log_loss(y_test, yhat_prob))"
      ]
    },
    {
      "cell_type": "markdown",
      "metadata": {
        "id": "pc1_REBT9Z9j"
      },
      "source": [
        "### 4. Proses Evaluation Model Support Vector Machine(SVM)"
      ]
    },
    {
      "cell_type": "code",
      "source": [
        "# Vectorization\n",
        "from sklearn.feature_extraction.text import CountVectorizer\n",
        "\n",
        "cv = CountVectorizer()\n",
        "cv.fit(df['content'])\n",
        "x = cv.transform(df['content'])\n",
        "\n",
        "y = df['label']"
      ],
      "metadata": {
        "id": "E9x8EpM0W1lm"
      },
      "execution_count": null,
      "outputs": []
    },
    {
      "cell_type": "code",
      "source": [
        "# Build Classifier\n",
        "from sklearn.linear_model import LogisticRegression\n",
        "from sklearn.svm import SVC\n",
        "from sklearn.metrics import accuracy_score\n",
        "from sklearn.model_selection import train_test_split\n",
        "\n",
        "X_train, X_test, y_train, y_test, = train_test_split(x, y, train_size=0.80)"
      ],
      "metadata": {
        "id": "jzG2Ju3oX11J"
      },
      "execution_count": null,
      "outputs": []
    },
    {
      "cell_type": "code",
      "source": [
        "# Find the best value of C in logistic regression\n",
        "for c in [0.01, 0.05, 0.25, 0.5, 1]:\n",
        "\n",
        "    lr = LogisticRegression(C=c)\n",
        "    lr.fit(X_train, y_train)\n",
        "    print('Accuracy for C-%s: %s' \n",
        "          % (c, accuracy_score(y_test, lr.predict(X_test))))"
      ],
      "metadata": {
        "colab": {
          "base_uri": "https://localhost:8080/"
        },
        "id": "TqNe2-HvZgAv",
        "outputId": "bb5c8d96-378c-4f9a-fe82-8ae31c942bf9"
      },
      "execution_count": null,
      "outputs": [
        {
          "output_type": "stream",
          "name": "stdout",
          "text": [
            "Accuracy for C-0.01: 0.735\n",
            "Accuracy for C-0.05: 0.815\n",
            "Accuracy for C-0.25: 0.82\n",
            "Accuracy for C-0.5: 0.815\n",
            "Accuracy for C-1: 0.795\n"
          ]
        }
      ]
    },
    {
      "cell_type": "code",
      "source": [
        "final_model_sv = SVC(C=1)\n",
        "final_model_sv.fit(x, y)\n",
        "print('Final Model Accuracy: %s' %accuracy_score(y_test, final_model_sv.predict(X_test)))"
      ],
      "metadata": {
        "colab": {
          "base_uri": "https://localhost:8080/"
        },
        "id": "VpKecpE4ePL_",
        "outputId": "25fc9e8d-eeae-4cc9-9e7f-4db0116a4753"
      },
      "execution_count": null,
      "outputs": [
        {
          "output_type": "stream",
          "name": "stdout",
          "text": [
            "Final Model Accuracy: 0.92\n"
          ]
        }
      ]
    },
    {
      "cell_type": "markdown",
      "metadata": {
        "id": "EXDGRu-fHpvv"
      },
      "source": [
        "### 5. Proses Prediction"
      ]
    },
    {
      "cell_type": "code",
      "execution_count": null,
      "metadata": {
        "id": "7ZwFF6ZXGfBj"
      },
      "outputs": [],
      "source": [
        "import time"
      ]
    },
    {
      "cell_type": "code",
      "execution_count": null,
      "metadata": {
        "id": "plO0fYm4zsyL"
      },
      "outputs": [],
      "source": [
        "from sklearn.svm import SVC\n",
        "text_classifier_svm = SVC(kernel='linear')\n",
        "t0_svm = time.time()\n",
        "text_classifier_svm.fit(X_train, y_train)\n",
        "t1_svm = time.time()"
      ]
    },
    {
      "cell_type": "code",
      "execution_count": null,
      "metadata": {
        "colab": {
          "base_uri": "https://localhost:8080/"
        },
        "id": "ulqqo7MEGwsp",
        "outputId": "713daf25-94d3-4253-cade-c19c773178af"
      },
      "outputs": [
        {
          "output_type": "stream",
          "name": "stdout",
          "text": [
            "SVM Training time: 0.324198s; Prediction time: 0.053876s\n"
          ]
        }
      ],
      "source": [
        "predictions_svm = text_classifier_svm.predict(X_test)\n",
        "t2_svm = time.time()\n",
        "time_linear_train_svm = t1_svm-t0_svm\n",
        "time_linear_predict_svm = t2_svm-t1_svm\n",
        "\n",
        "# results\n",
        "print(\"SVM Training time: %fs; Prediction time: %fs\" % (time_linear_train_svm, time_linear_predict_svm))"
      ]
    },
    {
      "cell_type": "code",
      "execution_count": null,
      "metadata": {
        "id": "J2c5pfvIO7TV"
      },
      "outputs": [],
      "source": [
        "#melakukan training\n",
        "def training_step(df, vectorizer) :\n",
        "    features = vectorizer.fit_transform(df.content)\n",
        "    LR_ = LogisticRegression(C = 3, solver='liblinear', max_iter=150).fit(features,y)\n",
        "    return LR_\n",
        "\n",
        "#melakukan testing\n",
        "classifier = training_step(df, vectorizer)\n",
        "result = classifier.predict(vectorizer.transform(df.content))"
      ]
    },
    {
      "cell_type": "code",
      "execution_count": null,
      "metadata": {
        "id": "31wMJYvMO7TV"
      },
      "outputs": [],
      "source": [
        "#simpan hasil\n",
        "np.savetxt('/content/Hasil_Crawling.txt', result, fmt='%s', delimiter='\\n')"
      ]
    },
    {
      "cell_type": "code",
      "execution_count": null,
      "metadata": {
        "id": "d7icCSqcO7TV",
        "colab": {
          "base_uri": "https://localhost:8080/",
          "height": 206
        },
        "outputId": "66499ab7-1c05-4f06-90ed-a3aad7b05624"
      },
      "outputs": [
        {
          "output_type": "execute_result",
          "data": {
            "text/plain": [
              "   NEGATIF\n",
              "0  NEGATIF\n",
              "1  NEGATIF\n",
              "2  NEGATIF\n",
              "3  NEGATIF\n",
              "4  NEGATIF"
            ],
            "text/html": [
              "\n",
              "  <div id=\"df-c33e874d-447b-44e8-80e4-b10beacd3f32\">\n",
              "    <div class=\"colab-df-container\">\n",
              "      <div>\n",
              "<style scoped>\n",
              "    .dataframe tbody tr th:only-of-type {\n",
              "        vertical-align: middle;\n",
              "    }\n",
              "\n",
              "    .dataframe tbody tr th {\n",
              "        vertical-align: top;\n",
              "    }\n",
              "\n",
              "    .dataframe thead th {\n",
              "        text-align: right;\n",
              "    }\n",
              "</style>\n",
              "<table border=\"1\" class=\"dataframe\">\n",
              "  <thead>\n",
              "    <tr style=\"text-align: right;\">\n",
              "      <th></th>\n",
              "      <th>NEGATIF</th>\n",
              "    </tr>\n",
              "  </thead>\n",
              "  <tbody>\n",
              "    <tr>\n",
              "      <th>0</th>\n",
              "      <td>NEGATIF</td>\n",
              "    </tr>\n",
              "    <tr>\n",
              "      <th>1</th>\n",
              "      <td>NEGATIF</td>\n",
              "    </tr>\n",
              "    <tr>\n",
              "      <th>2</th>\n",
              "      <td>NEGATIF</td>\n",
              "    </tr>\n",
              "    <tr>\n",
              "      <th>3</th>\n",
              "      <td>NEGATIF</td>\n",
              "    </tr>\n",
              "    <tr>\n",
              "      <th>4</th>\n",
              "      <td>NEGATIF</td>\n",
              "    </tr>\n",
              "  </tbody>\n",
              "</table>\n",
              "</div>\n",
              "      <button class=\"colab-df-convert\" onclick=\"convertToInteractive('df-c33e874d-447b-44e8-80e4-b10beacd3f32')\"\n",
              "              title=\"Convert this dataframe to an interactive table.\"\n",
              "              style=\"display:none;\">\n",
              "        \n",
              "  <svg xmlns=\"http://www.w3.org/2000/svg\" height=\"24px\"viewBox=\"0 0 24 24\"\n",
              "       width=\"24px\">\n",
              "    <path d=\"M0 0h24v24H0V0z\" fill=\"none\"/>\n",
              "    <path d=\"M18.56 5.44l.94 2.06.94-2.06 2.06-.94-2.06-.94-.94-2.06-.94 2.06-2.06.94zm-11 1L8.5 8.5l.94-2.06 2.06-.94-2.06-.94L8.5 2.5l-.94 2.06-2.06.94zm10 10l.94 2.06.94-2.06 2.06-.94-2.06-.94-.94-2.06-.94 2.06-2.06.94z\"/><path d=\"M17.41 7.96l-1.37-1.37c-.4-.4-.92-.59-1.43-.59-.52 0-1.04.2-1.43.59L10.3 9.45l-7.72 7.72c-.78.78-.78 2.05 0 2.83L4 21.41c.39.39.9.59 1.41.59.51 0 1.02-.2 1.41-.59l7.78-7.78 2.81-2.81c.8-.78.8-2.07 0-2.86zM5.41 20L4 18.59l7.72-7.72 1.47 1.35L5.41 20z\"/>\n",
              "  </svg>\n",
              "      </button>\n",
              "      \n",
              "  <style>\n",
              "    .colab-df-container {\n",
              "      display:flex;\n",
              "      flex-wrap:wrap;\n",
              "      gap: 12px;\n",
              "    }\n",
              "\n",
              "    .colab-df-convert {\n",
              "      background-color: #E8F0FE;\n",
              "      border: none;\n",
              "      border-radius: 50%;\n",
              "      cursor: pointer;\n",
              "      display: none;\n",
              "      fill: #1967D2;\n",
              "      height: 32px;\n",
              "      padding: 0 0 0 0;\n",
              "      width: 32px;\n",
              "    }\n",
              "\n",
              "    .colab-df-convert:hover {\n",
              "      background-color: #E2EBFA;\n",
              "      box-shadow: 0px 1px 2px rgba(60, 64, 67, 0.3), 0px 1px 3px 1px rgba(60, 64, 67, 0.15);\n",
              "      fill: #174EA6;\n",
              "    }\n",
              "\n",
              "    [theme=dark] .colab-df-convert {\n",
              "      background-color: #3B4455;\n",
              "      fill: #D2E3FC;\n",
              "    }\n",
              "\n",
              "    [theme=dark] .colab-df-convert:hover {\n",
              "      background-color: #434B5C;\n",
              "      box-shadow: 0px 1px 3px 1px rgba(0, 0, 0, 0.15);\n",
              "      filter: drop-shadow(0px 1px 2px rgba(0, 0, 0, 0.3));\n",
              "      fill: #FFFFFF;\n",
              "    }\n",
              "  </style>\n",
              "\n",
              "      <script>\n",
              "        const buttonEl =\n",
              "          document.querySelector('#df-c33e874d-447b-44e8-80e4-b10beacd3f32 button.colab-df-convert');\n",
              "        buttonEl.style.display =\n",
              "          google.colab.kernel.accessAllowed ? 'block' : 'none';\n",
              "\n",
              "        async function convertToInteractive(key) {\n",
              "          const element = document.querySelector('#df-c33e874d-447b-44e8-80e4-b10beacd3f32');\n",
              "          const dataTable =\n",
              "            await google.colab.kernel.invokeFunction('convertToInteractive',\n",
              "                                                     [key], {});\n",
              "          if (!dataTable) return;\n",
              "\n",
              "          const docLinkHtml = 'Like what you see? Visit the ' +\n",
              "            '<a target=\"_blank\" href=https://colab.research.google.com/notebooks/data_table.ipynb>data table notebook</a>'\n",
              "            + ' to learn more about interactive tables.';\n",
              "          element.innerHTML = '';\n",
              "          dataTable['output_type'] = 'display_data';\n",
              "          await google.colab.output.renderOutput(dataTable, element);\n",
              "          const docLink = document.createElement('div');\n",
              "          docLink.innerHTML = docLinkHtml;\n",
              "          element.appendChild(docLink);\n",
              "        }\n",
              "      </script>\n",
              "    </div>\n",
              "  </div>\n",
              "  "
            ]
          },
          "metadata": {},
          "execution_count": 34
        }
      ],
      "source": [
        "df_hasil = pd.read_csv(r'/content/Hasil_Crawling.txt')\n",
        "df_hasil.head()"
      ]
    },
    {
      "cell_type": "code",
      "execution_count": null,
      "metadata": {
        "id": "gCVG7-AprMqZ"
      },
      "outputs": [],
      "source": [
        "def prediksi_komentar(comment):\n",
        "  result = classifier.predict(vectorizer.transform([comment]))\n",
        "  if result == 1:\n",
        "    return \"negatif\"\n",
        "  else:\n",
        "    return \"positif\""
      ]
    },
    {
      "cell_type": "code",
      "execution_count": null,
      "metadata": {
        "colab": {
          "base_uri": "https://localhost:8080/",
          "height": 35
        },
        "outputId": "030e87e8-4953-409c-e95a-46c1455bc8ba",
        "id": "cFSULpiLd_J5"
      },
      "outputs": [
        {
          "output_type": "execute_result",
          "data": {
            "text/plain": [
              "'positif'"
            ],
            "application/vnd.google.colaboratory.intrinsic+json": {
              "type": "string"
            }
          },
          "metadata": {},
          "execution_count": 36
        }
      ],
      "source": [
        "prediksi_komentar('aplikasi nya sangat bagus')"
      ]
    }
  ],
  "metadata": {
    "colab": {
      "collapsed_sections": [],
      "name": "Projek_Akhir_SENTIMENT_ANALYSIS.ipynb",
      "provenance": []
    },
    "kernelspec": {
      "display_name": "Python 3",
      "name": "python3"
    },
    "language_info": {
      "name": "python"
    }
  },
  "nbformat": 4,
  "nbformat_minor": 0
}